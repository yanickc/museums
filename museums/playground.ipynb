{
 "cells": [
  {
   "cell_type": "code",
   "execution_count": 139,
   "metadata": {
    "collapsed": true
   },
   "outputs": [],
   "source": [
    "import wikipedia\n",
    "import pandas as pd\n",
    "import lxml.html as lh\n",
    "import matplotlib.pyplot as plt\n",
    "import seaborn as sns\n",
    "\n",
    "pd.set_option('display.max_rows', 100)"
   ]
  },
  {
   "cell_type": "code",
   "execution_count": 140,
   "outputs": [],
   "source": [
    "def get_museum_wikipedia_table(page_title):\n",
    "\n",
    "    # try:\n",
    "    page = wikipedia.page(page_title)\n",
    "    page_html = page.html()\n",
    "    # except wikipedia.WikipediaException as e:\n",
    "    #     print(f\"Error: {e}\")\n",
    "\n",
    "    #%%\n",
    "    table = lh.fromstring(page_html)\n",
    "    df = pd.read_html(page_html)[0]\n",
    "\n",
    "    countries = table.xpath(\"//tr/td/span[@class='flagicon']/a/@title\")  # TODO trouver comment <span class=\"flagicon\">\n",
    "\n",
    "    assert len(countries) == len(df)\n",
    "    df['Country'] = countries\n",
    "\n",
    "    df.rename(columns={\"Country flag, city\": \"City\"}, inplace=True)\n",
    "\n",
    "    museums_df.rename(columns={\"Country flag, city\" : \"City\"}, inplace=True)\n",
    "\n",
    "    return df\n",
    "\n",
    "def get_cities_table():\n",
    "    cities_df = pd.read_html(\"https://worldpopulationreview.com/world-cities\")[0]\n",
    "    cities_df.rename(columns={\"Name\" : \"City\"}, inplace=True)\n",
    "\n",
    "    CITIES_TO_RENAME = [\n",
    "        [\"Taibei\", \"Taipei\"],\n",
    "        [\"Washington\", \"Washington, D.C.\"],\n",
    "        [\"New York\", \"New York City\"],\n",
    "        [\"Rio De Janeiro\", \"Rio de Janeiro\"],\n",
    "        [\"Xianyang Shaanxi\", \"Xi'an\"],  # TODO To be verified that it is the same city.\n",
    "        [\"Taizhong\", \"Taichung\"],  # TODO To be verified that it is the same city.\n",
    "    ]\n",
    "\n",
    "    COUNTRIES_TO_RENAME = [\n",
    "        [\"Republic Of Korea\", \"South Korea\"],\n",
    "        [\"Russian Federation\", \"Russia\"],\n",
    "        [\"China, Taiwan Province Of China\", \"Taiwan\"],\n",
    "    ]\n",
    "\n",
    "    MISSING_CITIES = [\n",
    "        {\"City\":\"Oświęcim\", \"Country\":\"Poland\", \"2020 Population\":39057},  # https://en.wikipedia.org/wiki/O%C5%9Bwi%C4%99cim\n",
    "        {\"City\":\"Vatican City\", \"Country\":\"Vatican City\", \"2020 Population\":618},  # https://www.vaticanstate.va/it/stato-governo/note-generali/popolazione.html\n",
    "    ]\n",
    "\n",
    "\n",
    "    for old_name, new_name in CITIES_TO_RENAME:\n",
    "        cities_df.loc[cities_df.City==old_name, \"City\"] = new_name\n",
    "\n",
    "    for old_name, new_name in COUNTRIES_TO_RENAME:\n",
    "        cities_df.loc[cities_df.Country==old_name, \"Country\"] = new_name\n",
    "\n",
    "    for c in MISSING_CITIES:\n",
    "        cities_df = cities_df.append(c, ignore_index=True)\n",
    "\n",
    "    # Remove Suzhou double entry, keep the biggest\n",
    "    cities_df.drop_duplicates(subset=\"City\", keep=\"first\", inplace=True)\n",
    "\n",
    "    # Make sure all countries from museums_df are present in cities_df\n",
    "    museum_df_countries = set(museums_df.Country)\n",
    "    cities_df_countries= set(cities_df.Country)\n",
    "    diff = museum_df_countries - cities_df_countries\n",
    "    if len(diff) > 0:\n",
    "        print(\"Missing cities info :\")\n",
    "        print(museums_df.query(\"City not in @cities_df.City\"))\n",
    "        print(diff)\n",
    "        raise ValueError(\"Missing city info. A country from the museum list cannot be found in the cities list.\", diff )\n",
    "\n",
    "    return cities_df"
   ],
   "metadata": {
    "collapsed": false,
    "pycharm": {
     "name": "#%%\n"
    }
   }
  },
  {
   "cell_type": "markdown",
   "source": [
    "Load tables\n",
    "\n"
   ],
   "metadata": {
    "collapsed": false,
    "pycharm": {
     "name": "#%% md\n"
    }
   }
  },
  {
   "cell_type": "code",
   "execution_count": 141,
   "outputs": [],
   "source": [
    "museums_df = get_museum_wikipedia_table(\"List_of_most_visited_museums\")\n",
    "# museums_df"
   ],
   "metadata": {
    "collapsed": false,
    "pycharm": {
     "name": "#%%\n"
    }
   }
  },
  {
   "cell_type": "code",
   "execution_count": 142,
   "outputs": [],
   "source": [
    "cities_df = get_cities_table()\n",
    "# list(sorted(set(cities_df.City)))\n",
    "# cities_df"
   ],
   "metadata": {
    "collapsed": false,
    "pycharm": {
     "name": "#%%\n"
    }
   }
  },
  {
   "cell_type": "markdown",
   "source": [
    "Merge museums with cities table"
   ],
   "metadata": {
    "collapsed": false,
    "pycharm": {
     "name": "#%% md\n"
    }
   }
  },
  {
   "cell_type": "code",
   "execution_count": 143,
   "outputs": [],
   "source": [
    "result_df = pd.merge(museums_df, cities_df, how=\"left\", left_on=[\"City\", \"Country\"], right_on=[\"City\", \"Country\"] )\n",
    "# result_df\n"
   ],
   "metadata": {
    "collapsed": false,
    "pycharm": {
     "name": "#%%\n"
    }
   }
  },
  {
   "cell_type": "code",
   "execution_count": 144,
   "outputs": [],
   "source": [
    "db = result_df[[\"Name\", \"City\", \"Country\", \"Visitors per year\", \"2020 Population\"]].copy()\n",
    "db.rename(columns={\"2020 Population\" : \"Population\"}, inplace=True)\n",
    "# db"
   ],
   "metadata": {
    "collapsed": false,
    "pycharm": {
     "name": "#%%\n"
    }
   }
  },
  {
   "cell_type": "code",
   "execution_count": 145,
   "outputs": [
    {
     "data": {
      "text/plain": "Text(0, 0.5, 'Museums Visitors per Year')"
     },
     "execution_count": 145,
     "metadata": {},
     "output_type": "execute_result"
    },
    {
     "data": {
      "text/plain": "<Figure size 432x288 with 1 Axes>",
      "image/png": "[encoded data removed]"
     },
     "metadata": {
      "needs_background": "light"
     },
     "output_type": "display_data"
    }
   ],
   "source": [
    "sns.scatterplot(x=\"Population\", y=\"Visitors per year\", data=db)\n",
    "plt.title(\"City Population vs Museums Visitors per Year\")\n",
    "plt.xlabel(\"City Population\")\n",
    "plt.ylabel(\"Museums Visitors per Year\")\n"
   ],
   "metadata": {
    "collapsed": false,
    "pycharm": {
     "name": "#%%\n"
    }
   }
  },
  {
   "cell_type": "code",
   "execution_count": 146,
   "outputs": [
    {
     "name": "stdout",
     "output_type": "stream",
     "text": [
      "model.coef_=array([0.00108382])\n",
      "model.intercept_=3462426.2088096254\n"
     ]
    }
   ],
   "source": [
    "from sklearn.linear_model import LinearRegression\n",
    "model = LinearRegression()\n",
    "X = db[[\"Population\"]]\n",
    "# X = db[[\"Population\", \"Visitors per year\"]]\n",
    "y = db[\"Visitors per year\"]\n",
    "\n",
    "model.fit(X, y)\n",
    "\n",
    "# model.predict([11017230])\n",
    "\n",
    "print(f\"{model.coef_=}\")\n",
    "print(f\"{model.intercept_=}\")\n"
   ],
   "metadata": {
    "collapsed": false,
    "pycharm": {
     "name": "#%%\n"
    }
   }
  },
  {
   "cell_type": "code",
   "execution_count": 147,
   "outputs": [
    {
     "data": {
      "text/plain": "<AxesSubplot:xlabel='Population', ylabel='Visitors per year'>"
     },
     "execution_count": 147,
     "metadata": {},
     "output_type": "execute_result"
    },
    {
     "data": {
      "text/plain": "<Figure size 432x288 with 1 Axes>",
      "image/png": "[encoded data removed]"
     },
     "metadata": {
      "needs_background": "light"
     },
     "output_type": "display_data"
    }
   ],
   "source": [
    "sns.regplot(\"Population\", \"Visitors per year\", data=db)\n"
   ],
   "metadata": {
    "collapsed": false,
    "pycharm": {
     "name": "#%%\n"
    }
   }
  },
  {
   "cell_type": "code",
   "execution_count": 148,
   "outputs": [
    {
     "data": {
      "text/plain": "array([3462534.59041218])"
     },
     "execution_count": 148,
     "metadata": {},
     "output_type": "execute_result"
    }
   ],
   "source": [
    "model.predict([[100000]])"
   ],
   "metadata": {
    "collapsed": false,
    "pycharm": {
     "name": "#%%\n"
    }
   }
  },
  {
   "cell_type": "code",
   "execution_count": 149,
   "outputs": [],
   "source": [
    "# X\n",
    "#"
   ],
   "metadata": {
    "collapsed": false,
    "pycharm": {
     "name": "#%%\n"
    }
   }
  },
  {
   "cell_type": "code",
   "execution_count": 150,
   "outputs": [],
   "source": [
    "# y\n",
    "\n",
    "\n"
   ],
   "metadata": {
    "collapsed": false,
    "pycharm": {
     "name": "#%%\n"
    }
   }
  }
 ],
 "metadata": {
  "kernelspec": {
   "display_name": "Python 3",
   "language": "python",
   "name": "python3"
  },
  "language_info": {
   "codemirror_mode": {
    "name": "ipython",
    "version": 2
   },
   "file_extension": ".py",
   "mimetype": "text/x-python",
   "name": "python",
   "nbconvert_exporter": "python",
   "pygments_lexer": "ipython2",
   "version": "2.7.6"
  }
 },
 "nbformat": 4,
 "nbformat_minor": 0
}