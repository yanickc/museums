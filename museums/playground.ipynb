{
 "cells": [
  {
   "cell_type": "code",
   "execution_count": 51,
   "metadata": {
    "collapsed": true
   },
   "outputs": [],
   "source": [
    "import wikipedia\n",
    "import pandas as pd\n",
    "import lxml.html as lh\n",
    "import matplotlib.pyplot as plt\n",
    "import seaborn as sns\n",
    "\n",
    "pd.set_option('display.max_rows', 100)"
   ]
  },
  {
   "cell_type": "code",
   "execution_count": 52,
   "outputs": [],
   "source": [
    "def get_museum_wikipedia_table(page_title):\n",
    "\n",
    "    # try:\n",
    "    page = wikipedia.page(page_title)\n",
    "    page_html = page.html()\n",
    "    # except wikipedia.WikipediaException as e:\n",
    "    #     print(f\"Error: {e}\")\n",
    "\n",
    "    #%%\n",
    "    table = lh.fromstring(page_html)\n",
    "    df = pd.read_html(page_html)[0]\n",
    "\n",
    "    countries = table.xpath(\"//tr/td/span[@class='flagicon']/a/@title\")  # TODO trouver comment <span class=\"flagicon\">\n",
    "\n",
    "    assert len(countries) == len(df)\n",
    "    df['Country'] = countries\n",
    "\n",
    "    df.rename(columns={\"Country flag, city\": \"City\"}, inplace=True)\n",
    "\n",
    "    df.rename(columns={\"Country flag, city\" : \"City\"}, inplace=True)\n",
    "\n",
    "    return df\n",
    "\n",
    "def get_cities_table():\n",
    "    cities_df = pd.read_html(\"https://worldpopulationreview.com/world-cities\")[0]\n",
    "    cities_df.rename(columns={\"Name\" : \"City\"}, inplace=True)\n",
    "\n",
    "    CITIES_TO_RENAME = [\n",
    "        [\"Taibei\", \"Taipei\"],\n",
    "        [\"Washington\", \"Washington, D.C.\"],\n",
    "        [\"New York\", \"New York City\"],\n",
    "        [\"Rio De Janeiro\", \"Rio de Janeiro\"],\n",
    "        [\"Xianyang Shaanxi\", \"Xi'an\"],  # TODO To be verified that it is the same city.\n",
    "        [\"Taizhong\", \"Taichung\"],  # TODO To be verified that it is the same city.\n",
    "    ]\n",
    "\n",
    "    COUNTRIES_TO_RENAME = [\n",
    "        [\"Republic Of Korea\", \"South Korea\"],\n",
    "        [\"Russian Federation\", \"Russia\"],\n",
    "        [\"China, Taiwan Province Of China\", \"Taiwan\"],\n",
    "    ]\n",
    "\n",
    "    MISSING_CITIES = [\n",
    "        {\"City\":\"Oświęcim\", \"Country\":\"Poland\", \"2020 Population\":39057},  # https://en.wikipedia.org/wiki/O%C5%9Bwi%C4%99cim\n",
    "        {\"City\":\"Vatican City\", \"Country\":\"Vatican City\", \"2020 Population\":618},  # https://www.vaticanstate.va/it/stato-governo/note-generali/popolazione.html\n",
    "    ]\n",
    "\n",
    "\n",
    "    for old_name, new_name in CITIES_TO_RENAME:\n",
    "        cities_df.loc[cities_df.City==old_name, \"City\"] = new_name\n",
    "\n",
    "    for old_name, new_name in COUNTRIES_TO_RENAME:\n",
    "        cities_df.loc[cities_df.Country==old_name, \"Country\"] = new_name\n",
    "\n",
    "    for c in MISSING_CITIES:\n",
    "        cities_df = cities_df.append(c, ignore_index=True)\n",
    "\n",
    "    # Remove Suzhou double entry, keeping the biggest\n",
    "\n",
    "    print(cities_df[cities_df.City==\"Suzhou\"])\n",
    "\n",
    "    print(len(cities_df))\n",
    "    cities_df.drop_duplicates(subset=\"City\", keep=\"first\", inplace=True)\n",
    "    print(len(cities_df))\n",
    "\n",
    "    return cities_df"
   ],
   "metadata": {
    "collapsed": false,
    "pycharm": {
     "name": "#%%\n"
    }
   }
  },
  {
   "cell_type": "markdown",
   "source": [
    "Load tables\n",
    "\n"
   ],
   "metadata": {
    "collapsed": false,
    "pycharm": {
     "name": "#%% md\n"
    }
   }
  },
  {
   "cell_type": "code",
   "execution_count": 53,
   "outputs": [],
   "source": [
    "museums_df = get_museum_wikipedia_table(\"List_of_most_visited_museums\")\n",
    "# museums_df"
   ],
   "metadata": {
    "collapsed": false,
    "pycharm": {
     "name": "#%%\n"
    }
   }
  },
  {
   "cell_type": "code",
   "execution_count": 54,
   "outputs": [
    {
     "name": "stdout",
     "output_type": "stream",
     "text": [
      "      Rank    City Country  2020 Population  2019 Population Change\n",
      "53    54.0  Suzhou   China          7069992        6703499.0  5.47%\n",
      "440  441.0  Suzhou   China          1169932        1119054.0  4.55%\n",
      "1149\n",
      "1141\n"
     ]
    }
   ],
   "source": [
    "cities_df = get_cities_table()\n",
    "# list(sorted(set(cities_df.City)))\n",
    "# cities_df\n",
    "\n"
   ],
   "metadata": {
    "collapsed": false,
    "pycharm": {
     "name": "#%%\n"
    }
   }
  },
  {
   "cell_type": "code",
   "execution_count": 55,
   "outputs": [],
   "source": [
    "# Make sure all countries from museums_df are present in cities_df\n",
    "museum_df_countries = set(museums_df.Country)\n",
    "cities_df_countries= set(cities_df.Country)\n",
    "diff = museum_df_countries - cities_df_countries\n",
    "if len(diff) > 0:\n",
    "    print(\"Missing cities info :\")\n",
    "    print(museums_df.query(\"City not in @cities_df.City\"))\n",
    "    print(diff)\n",
    "    raise ValueError(\"Missing city info. A country from the museum list cannot be found in the cities list.\", diff )\n"
   ],
   "metadata": {
    "collapsed": false,
    "pycharm": {
     "name": "#%%\n"
    }
   }
  },
  {
   "cell_type": "markdown",
   "source": [
    "Merge museums with cities table"
   ],
   "metadata": {
    "collapsed": false,
    "pycharm": {
     "name": "#%% md\n"
    }
   }
  },
  {
   "cell_type": "code",
   "execution_count": 56,
   "outputs": [],
   "source": [
    "result_df = pd.merge(museums_df, cities_df, how=\"left\", left_on=[\"City\", \"Country\"], right_on=[\"City\", \"Country\"] )\n",
    "# result_df\n"
   ],
   "metadata": {
    "collapsed": false,
    "pycharm": {
     "name": "#%%\n"
    }
   }
  },
  {
   "cell_type": "code",
   "execution_count": 57,
   "outputs": [],
   "source": [
    "db = result_df[[\"Name\", \"City\", \"Country\", \"Visitors per year\", \"2020 Population\"]].copy()\n",
    "db.rename(columns={\"2020 Population\" : \"Population\"}, inplace=True)\n",
    "db\n",
    "db.to_html(\"db.html\")"
   ],
   "metadata": {
    "collapsed": false,
    "pycharm": {
     "name": "#%%\n"
    }
   }
  },
  {
   "cell_type": "code",
   "execution_count": 58,
   "outputs": [
    {
     "data": {
      "text/plain": "<Figure size 432x288 with 1 Axes>",
      "image/png": "[encoded data removed]"
     },
     "metadata": {
      "needs_background": "light"
     },
     "output_type": "display_data"
    }
   ],
   "source": [
    "sns.scatterplot(x=\"Population\", y=\"Visitors per year\", data=db)\n",
    "plt.title(\"City Population vs Museums Visitors per Year\")\n",
    "plt.xlabel(\"City Population\")\n",
    "plt.ylabel(\"Museums Visitors per Year\")\n",
    "\n",
    "plt.savefig(\"plot.png\")"
   ],
   "metadata": {
    "collapsed": false,
    "pycharm": {
     "name": "#%%\n"
    }
   }
  },
  {
   "cell_type": "code",
   "execution_count": 59,
   "outputs": [
    {
     "name": "stdout",
     "output_type": "stream",
     "text": [
      "model.coef_=array([0.00108382])\n",
      "model.intercept_=3462426.2088096254\n"
     ]
    }
   ],
   "source": [
    "from sklearn.linear_model import LinearRegression\n",
    "model = LinearRegression()\n",
    "X = db[[\"Population\"]]\n",
    "# X = db[[\"Population\", \"Visitors per year\"]]\n",
    "y = db[\"Visitors per year\"]\n",
    "\n",
    "model.fit(X, y)\n",
    "\n",
    "# model.predict([11017230])\n",
    "\n",
    "print(f\"{model.coef_=}\")\n",
    "print(f\"{model.intercept_=}\")\n"
   ],
   "metadata": {
    "collapsed": false,
    "pycharm": {
     "name": "#%%\n"
    }
   }
  },
  {
   "cell_type": "code",
   "execution_count": 60,
   "outputs": [
    {
     "data": {
      "text/plain": "<AxesSubplot:xlabel='Population', ylabel='Visitors per year'>"
     },
     "execution_count": 60,
     "metadata": {},
     "output_type": "execute_result"
    },
    {
     "data": {
      "text/plain": "<Figure size 432x288 with 1 Axes>",
      "image/png": "[encoded data removed]"
     },
     "metadata": {
      "needs_background": "light"
     },
     "output_type": "display_data"
    }
   ],
   "source": [
    "sns.regplot(\"Population\", \"Visitors per year\", data=db)\n"
   ],
   "metadata": {
    "collapsed": false,
    "pycharm": {
     "name": "#%%\n"
    }
   }
  },
  {
   "cell_type": "markdown",
   "source": [
    "Test prediction"
   ],
   "metadata": {
    "collapsed": false,
    "pycharm": {
     "name": "#%% md\n"
    }
   }
  },
  {
   "cell_type": "code",
   "execution_count": 61,
   "outputs": [
    {
     "data": {
      "text/plain": "array([3462534.59041218])"
     },
     "execution_count": 61,
     "metadata": {},
     "output_type": "execute_result"
    }
   ],
   "source": [
    "model.predict([[100000]])"
   ],
   "metadata": {
    "collapsed": false,
    "pycharm": {
     "name": "#%%\n"
    }
   }
  },
  {
   "cell_type": "code",
   "execution_count": 62,
   "outputs": [],
   "source": [
    "# X\n",
    "#"
   ],
   "metadata": {
    "collapsed": false,
    "pycharm": {
     "name": "#%%\n"
    }
   }
  },
  {
   "cell_type": "code",
   "execution_count": 63,
   "outputs": [],
   "source": [
    "# y\n",
    "\n",
    "\n"
   ],
   "metadata": {
    "collapsed": false,
    "pycharm": {
     "name": "#%%\n"
    }
   }
  }
 ],
 "metadata": {
  "kernelspec": {
   "display_name": "Python 3",
   "language": "python",
   "name": "python3"
  },
  "language_info": {
   "codemirror_mode": {
    "name": "ipython",
    "version": 2
   },
   "file_extension": ".py",
   "mimetype": "text/x-python",
   "name": "python",
   "nbconvert_exporter": "python",
   "pygments_lexer": "ipython2",
   "version": "2.7.6"
  }
 },
 "nbformat": 4,
 "nbformat_minor": 0
}