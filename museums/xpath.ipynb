{
 "cells": [
  {
   "cell_type": "code",
   "execution_count": 5,
   "metadata": {
    "collapsed": true
   },
   "outputs": [
    {
     "name": "stdout",
     "output_type": "stream",
     "text": [
      "2\n",
      "['China', 'United States']\n"
     ]
    }
   ],
   "source": [
    "from pprint import pprint\n",
    "import lxml.html as lh\n",
    "\n",
    "\n",
    "with open(\"https _en.wikipedia.org_wiki_List_of_most-visited_museums.html\", \"r\") as f:\n",
    "    page_html = f.read()\n",
    "\n",
    "table = lh.fromstring(page_html)\n",
    "\n",
    "x = table.xpath(\"//tr/td/span[@class='flagicon']/a/@title\")  # TODO trouver comment <span class=\"flagicon\">\n",
    "print(len(x))\n",
    "pprint(x)\n",
    "\n",
    "\n"
   ]
  },
  {
   "cell_type": "code",
   "execution_count": null,
   "outputs": [],
   "source": [],
   "metadata": {
    "collapsed": false,
    "pycharm": {
     "name": "#%%\n"
    }
   }
  }
 ],
 "metadata": {
  "kernelspec": {
   "display_name": "Python 3",
   "language": "python",
   "name": "python3"
  },
  "language_info": {
   "codemirror_mode": {
    "name": "ipython",
    "version": 2
   },
   "file_extension": ".py",
   "mimetype": "text/x-python",
   "name": "python",
   "nbconvert_exporter": "python",
   "pygments_lexer": "ipython2",
   "version": "2.7.6"
  }
 },
 "nbformat": 4,
 "nbformat_minor": 0
}